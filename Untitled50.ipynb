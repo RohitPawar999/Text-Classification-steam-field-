{
 "cells": [
  {
   "cell_type": "code",
   "execution_count": 3,
   "id": "53ab31aa",
   "metadata": {},
   "outputs": [],
   "source": [
    "import pandas as pd\n",
    "df =  pd.read_csv(\"train_nlp.csv\") \n"
   ]
  },
  {
   "cell_type": "code",
   "execution_count": 4,
   "id": "c6652f5b",
   "metadata": {},
   "outputs": [],
   "source": [
    "import xgboost as xgb"
   ]
  },
  {
   "cell_type": "code",
   "execution_count": 5,
   "id": "17e48df8",
   "metadata": {},
   "outputs": [
    {
     "data": {
      "text/html": [
       "<div>\n",
       "<style scoped>\n",
       "    .dataframe tbody tr th:only-of-type {\n",
       "        vertical-align: middle;\n",
       "    }\n",
       "\n",
       "    .dataframe tbody tr th {\n",
       "        vertical-align: top;\n",
       "    }\n",
       "\n",
       "    .dataframe thead th {\n",
       "        text-align: right;\n",
       "    }\n",
       "</style>\n",
       "<table border=\"1\" class=\"dataframe\">\n",
       "  <thead>\n",
       "    <tr style=\"text-align: right;\">\n",
       "      <th></th>\n",
       "      <th>Label</th>\n",
       "      <th>Content</th>\n",
       "    </tr>\n",
       "  </thead>\n",
       "  <tbody>\n",
       "    <tr>\n",
       "      <th>0</th>\n",
       "      <td>2</td>\n",
       "      <td>second counting input 5 2 which receives inter...</td>\n",
       "    </tr>\n",
       "    <tr>\n",
       "      <th>1</th>\n",
       "      <td>4</td>\n",
       "      <td>extremely low temperature of the chips in cold...</td>\n",
       "    </tr>\n",
       "    <tr>\n",
       "      <th>2</th>\n",
       "      <td>3</td>\n",
       "      <td>of the basic ammonium salt of the carboxyl ate...</td>\n",
       "    </tr>\n",
       "    <tr>\n",
       "      <th>3</th>\n",
       "      <td>9</td>\n",
       "      <td>18 u2033 is provided which is axially supporte...</td>\n",
       "    </tr>\n",
       "    <tr>\n",
       "      <th>4</th>\n",
       "      <td>2</td>\n",
       "      <td>to an u201c inner surface u201d means the surf...</td>\n",
       "    </tr>\n",
       "    <tr>\n",
       "      <th>...</th>\n",
       "      <td>...</td>\n",
       "      <td>...</td>\n",
       "    </tr>\n",
       "    <tr>\n",
       "      <th>59114</th>\n",
       "      <td>1</td>\n",
       "      <td>skilled in the art will appreciate that variou...</td>\n",
       "    </tr>\n",
       "    <tr>\n",
       "      <th>59115</th>\n",
       "      <td>7</td>\n",
       "      <td>of work data that is typically encrypted with ...</td>\n",
       "    </tr>\n",
       "    <tr>\n",
       "      <th>59116</th>\n",
       "      <td>7</td>\n",
       "      <td>the supply side reel table 2 by a spring 6 the...</td>\n",
       "    </tr>\n",
       "    <tr>\n",
       "      <th>59117</th>\n",
       "      <td>7</td>\n",
       "      <td>detent roller 84 of detent element 80 into eng...</td>\n",
       "    </tr>\n",
       "    <tr>\n",
       "      <th>59118</th>\n",
       "      <td>7</td>\n",
       "      <td>laptop computer a rack mount computer system o...</td>\n",
       "    </tr>\n",
       "  </tbody>\n",
       "</table>\n",
       "<p>59119 rows × 2 columns</p>\n",
       "</div>"
      ],
      "text/plain": [
       "       Label                                            Content\n",
       "0          2  second counting input 5 2 which receives inter...\n",
       "1          4  extremely low temperature of the chips in cold...\n",
       "2          3  of the basic ammonium salt of the carboxyl ate...\n",
       "3          9  18 u2033 is provided which is axially supporte...\n",
       "4          2  to an u201c inner surface u201d means the surf...\n",
       "...      ...                                                ...\n",
       "59114      1  skilled in the art will appreciate that variou...\n",
       "59115      7  of work data that is typically encrypted with ...\n",
       "59116      7  the supply side reel table 2 by a spring 6 the...\n",
       "59117      7  detent roller 84 of detent element 80 into eng...\n",
       "59118      7  laptop computer a rack mount computer system o...\n",
       "\n",
       "[59119 rows x 2 columns]"
      ]
     },
     "execution_count": 5,
     "metadata": {},
     "output_type": "execute_result"
    }
   ],
   "source": [
    "df"
   ]
  },
  {
   "cell_type": "code",
   "execution_count": 6,
   "id": "fcacb7fa",
   "metadata": {},
   "outputs": [],
   "source": [
    "import pandas as pd\n",
    "\n",
    "from sklearn.feature_extraction.text import TfidfVectorizer\n",
    "from sklearn.model_selection import train_test_split\n",
    "from sklearn.preprocessing import LabelEncoder\n",
    "from sklearn.linear_model import LogisticRegression\n",
    "import csv\n",
    "from sklearn.metrics import accuracy_score\n",
    "\n",
    "# Read the training data\n",
    "df =  pd.read_csv(\"train_nlp.csv\") \n",
    "df_test = pd.read_csv(\"test_1.csv\")\n",
    "\n",
    "# Use LabelEncoder to convert class labels to consecutive integers\n",
    "label_encoder = LabelEncoder()\n",
    "df[\"Label\"] = label_encoder.fit_transform(df[\"Label\"])\n",
    "\n",
    "# Split the data into training and testing sets\n",
    "X_train, X_val, Y_train, Y_val = train_test_split(\n",
    "    df[\"Content\"], df[\"Label\"], test_size=0.2, random_state=42\n",
    ")\n",
    "\n",
    "# Vectorize the text data using TF-IDF\n",
    "vectorizer = TfidfVectorizer(stop_words='english')\n",
    "X_train_tfidf = vectorizer.fit_transform(X_train)\n",
    "X_val_tfidf = vectorizer.transform(X_val)\n",
    "X_test_tfidf = vectorizer.transform(df_test[\"Content\"])"
   ]
  },
  {
   "cell_type": "code",
   "execution_count": 5,
   "id": "a0c4782a",
   "metadata": {},
   "outputs": [
    {
     "name": "stdout",
     "output_type": "stream",
     "text": [
      "Accuracy: 0.562330852503383\n"
     ]
    }
   ],
   "source": [
    "from sklearn.svm import LinearSVC\n",
    "model = LinearSVC(C=0.650, penalty='l2', loss='hinge', dual=True, class_weight=None, max_iter=1000)\n",
    "\n",
    "# Train the model\n",
    "model.fit(X_train_tfidf,  Y_train)\n",
    "\n",
    "# Make predictions\n",
    "predictions = model.predict(X_val_tfidf)\n",
    "\n",
    "y_pred_test_1 = model.predict(X_test_tfidf)\n",
    "# Evaluate accuracy\n",
    "accuracy = accuracy_score(Y_val, predictions)\n",
    "print(\"Accuracy:\", accuracy)"
   ]
  },
  {
   "cell_type": "code",
   "execution_count": 6,
   "id": "09fcd3a6",
   "metadata": {},
   "outputs": [
    {
     "data": {
      "text/plain": [
       "array([5, 0, 0, ..., 0, 7, 7], dtype=int64)"
      ]
     },
     "execution_count": 6,
     "metadata": {},
     "output_type": "execute_result"
    }
   ],
   "source": [
    "y_pred_test_1"
   ]
  },
  {
   "cell_type": "code",
   "execution_count": 30,
   "id": "c9272a96",
   "metadata": {},
   "outputs": [
    {
     "name": "stdout",
     "output_type": "stream",
     "text": [
      "Data has been written to submission.csv\n"
     ]
    }
   ],
   "source": [
    "y_pred_test_labels = label_encoder.inverse_transform(y_pred_test_1)\n",
    "\n",
    "# Save predictions to a CSV file\n",
    "csv_file_path = 'submission.csv'\n",
    "header = ['Label']\n",
    "\n",
    "with open(csv_file_path, 'w', newline='') as csv_file:\n",
    "    csv_writer = csv.writer(csv_file)\n",
    "    csv_writer.writerow(header)\n",
    "    for value in y_pred_test_labels:\n",
    "        csv_writer.writerow([value])\n",
    "\n",
    "print(f'Data has been written to {csv_file_path}')"
   ]
  },
  {
   "cell_type": "code",
   "execution_count": 7,
   "id": "f0a5374d",
   "metadata": {},
   "outputs": [],
   "source": [
    "from sklearn.svm import LinearSVC\n",
    "from sklearn.ensemble import VotingClassifier\n",
    "from sklearn.linear_model import SGDClassifier\n",
    "from sklearn.ensemble import VotingClassifier, RandomForestClassifier, AdaBoostClassifier\n",
    "from sklearn.tree import DecisionTreeClassifier\n",
    "from sklearn.neighbors import KNeighborsClassifier"
   ]
  },
  {
   "cell_type": "code",
   "execution_count": 12,
   "id": "4698804b",
   "metadata": {},
   "outputs": [],
   "source": [
    "log_reg = LogisticRegression(multi_class='multinomial', max_iter=500, random_state=42)\n",
    "sgd_clf = SGDClassifier(loss='hinge', penalty='l2', alpha=1e-4, random_state=42, max_iter=500, tol=None)\n",
    "linear_svc = LinearSVC(C=0.650, penalty='l2', loss='hinge', dual=True, class_weight=None, max_iter=2000)\n",
    "#log_reg_1 = LogisticRegression(multi_class='multinomial', max_iter=500, random_state=42)\n",
    "xgb_clf = xgb.XGBClassifier(n_estimators=400)\n",
    "rf_clf = RandomForestClassifier(random_state=42,n_estimators=400)\n",
    "dt_clf = DecisionTreeClassifier(random_state=42)\n",
    "knn_clf = KNeighborsClassifier(n_neighbors=100)\n",
    "xgb_clf_1= xgb.XGBClassifier(n_estimators=200)"
   ]
  },
  {
   "cell_type": "code",
   "execution_count": 13,
   "id": "8d22fc5e",
   "metadata": {},
   "outputs": [
    {
     "name": "stdout",
     "output_type": "stream",
     "text": [
      "Ensemble Accuracy: 0.5740020297699594\n"
     ]
    }
   ],
   "source": [
    "ensemble = VotingClassifier(estimators=[('log_reg', log_reg), ('sgd_clf', sgd_clf), ('linear_svc', linear_svc),('xgb_clf', xgb_clf),('xgb_clf_1', xgb_clf_1),('rf_clf', rf_clf),('dt_clf', dt_clf),('knn_clf', knn_clf)], voting='hard')\n",
    "\n",
    "# Train ensemble model\n",
    "ensemble.fit(X_train_tfidf,  Y_train)\n",
    "\n",
    "# Make predictions\n",
    "predictions = ensemble.predict(X_val_tfidf)\n",
    "\n",
    "y_pred_test_2 = ensemble.predict(X_test_tfidf)\n",
    "\n",
    "\n",
    "# Evaluate accuracy\n",
    "accuracy = accuracy_score(Y_val, predictions)\n",
    "print(\"Ensemble Accuracy:\", accuracy)"
   ]
  },
  {
   "cell_type": "code",
   "execution_count": 14,
   "id": "8d8b2274",
   "metadata": {},
   "outputs": [
    {
     "name": "stdout",
     "output_type": "stream",
     "text": [
      "Data has been written to submission_11.csv\n"
     ]
    }
   ],
   "source": [
    "y_pred_test_labels = label_encoder.inverse_transform(y_pred_test_2)\n",
    "\n",
    "# Save predictions to a CSV file\n",
    "csv_file_path = 'submission_11.csv'\n",
    "header = ['Label']\n",
    "\n",
    "with open(csv_file_path, 'w', newline='') as csv_file:\n",
    "    csv_writer = csv.writer(csv_file)\n",
    "    csv_writer.writerow(header)\n",
    "    for value in y_pred_test_labels:\n",
    "        csv_writer.writerow([value])\n",
    "\n",
    "print(f'Data has been written to {csv_file_path}')"
   ]
  },
  {
   "cell_type": "code",
   "execution_count": 43,
   "id": "2a340b8a",
   "metadata": {},
   "outputs": [],
   "source": [
    "log_reg = LogisticRegression(multi_class='multinomial', max_iter=500, random_state=42)\n",
    "log_reg_1 = LogisticRegression(multi_class='multinomial', max_iter=500, random_state=42)\n",
    "log_reg_2 = LogisticRegression(multi_class='multinomial', max_iter=500, random_state=42)"
   ]
  },
  {
   "cell_type": "code",
   "execution_count": 44,
   "id": "792e6a29",
   "metadata": {},
   "outputs": [
    {
     "name": "stdout",
     "output_type": "stream",
     "text": [
      "Ensemble Accuracy: 0.5610622462787551\n"
     ]
    }
   ],
   "source": [
    "ensemble = VotingClassifier(estimators=[('log_reg', log_reg),('log_reg_2', log_reg_2),('log_reg_1', log_reg_1)], voting='hard')\n",
    "\n",
    "# Train ensemble model\n",
    "ensemble.fit(X_train_tfidf,  Y_train)\n",
    "\n",
    "# Make predictions\n",
    "predictions = ensemble.predict(X_val_tfidf)\n",
    "\n",
    "\n",
    "# Evaluate accuracy\n",
    "accuracy = accuracy_score(Y_val, predictions)\n",
    "print(\"Ensemble Accuracy:\", accuracy)"
   ]
  },
  {
   "cell_type": "code",
   "execution_count": null,
   "id": "5bc58da3",
   "metadata": {},
   "outputs": [],
   "source": []
  }
 ],
 "metadata": {
  "kernelspec": {
   "display_name": "Python 3 (ipykernel)",
   "language": "python",
   "name": "python3"
  },
  "language_info": {
   "codemirror_mode": {
    "name": "ipython",
    "version": 3
   },
   "file_extension": ".py",
   "mimetype": "text/x-python",
   "name": "python",
   "nbconvert_exporter": "python",
   "pygments_lexer": "ipython3",
   "version": "3.9.13"
  }
 },
 "nbformat": 4,
 "nbformat_minor": 5
}
